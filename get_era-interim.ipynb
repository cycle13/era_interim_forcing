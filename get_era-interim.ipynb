{
 "cells": [
  {
   "cell_type": "code",
   "execution_count": 1,
   "metadata": {},
   "outputs": [],
   "source": [
    "# Program to download ERA-Interim dataset\n",
    "#\n",
    "# Joseph B. Zambon\n",
    "# 6 August 2018"
   ]
  },
  {
   "cell_type": "code",
   "execution_count": 2,
   "metadata": {},
   "outputs": [],
   "source": [
    "#!conda install -y -c conda-forge ecmwf-api-client \n",
    "from ecmwfapi import ECMWFDataServer\n",
    "from calendar import monthrange\n",
    "dest_dir = '/raid0/datasets/hindcast/ecmwf/era-interim/'"
   ]
  },
  {
   "cell_type": "code",
   "execution_count": 3,
   "metadata": {},
   "outputs": [],
   "source": [
    "def get_ecmwf(yyyy,mm,dest_dir):\n",
    "    dateline = str(str(yyyy) + \"-\" + str(mm).zfill(2) + \"-01/to/\" + str(yyyy) + \\\n",
    "          \"-\" + str(mm).zfill(2) + \"-\" + str(monthrange(yyyy,mm)[1]))\n",
    "    target = str(dest_dir + \"ECMWF_\" + str(yyyy) + str(mm).zfill(2) + \".nc\")\n",
    "    server = ECMWFDataServer()\n",
    "    server.retrieve({\n",
    "        \"class\": \"ei\",\n",
    "        \"dataset\": \"interim\",\n",
    "        \"date\": str(dateline),\n",
    "        \"expver\": \"1\",\n",
    "        \"grid\": \"0.125/0.125\",\n",
    "        \"levtype\": \"sfc\",\n",
    "        \"param\": \"134.128/165.128/166.128/167.128/168.128/169.128/175.128/228.128\",\n",
    "        \"step\": \"3/6/9/12\",\n",
    "        \"stream\": \"oper\",\n",
    "        \"time\": \"0000/1200\",\n",
    "        \"type\": \"fc\",\n",
    "        'area': \"48/260/7/301\",\n",
    "        'format': \"netcdf\",\n",
    "        \"target\": str(target),\n",
    "    })\n"
   ]
  },
  {
   "cell_type": "code",
   "execution_count": 4,
   "metadata": {},
   "outputs": [
    {
     "name": "stdout",
     "output_type": "stream",
     "text": [
      "2018-08-06 05:57:06 ECMWF API python library 1.4.0\n",
      "2018-08-06 05:57:06 ECMWF API at https://api.ecmwf.int/v1\n",
      "2018-08-06 05:57:07 Welcome Joseph Zambon\n",
      "2018-08-06 05:57:07 In case of problems, please check https://software.ecmwf.int/wiki/display/WEBAPI/Web-API+Troubleshooting or contact servicedesk@ecmwf.int\n",
      "2018-08-06 05:57:07 In case of delays, please check  service activity page http://apps.ecmwf.int/webapi-activity/\n",
      "2018-08-06 05:57:08 Request is queued\n",
      "2018-08-06 05:57:09 Request is active\n",
      "Calling 'nice mars /tmp/42/0b/tmp-_marsqvg5ca.req'\n",
      "mars - WARN -\n",
      "mars - WARN - From 9 February 2016 10AM (UTC) MARS uses versions of\n",
      "mars - WARN - libemos newer than 4.3.0. For more details, see\n",
      "mars - WARN - https://software.ecmwf.int/wiki/display/EMOS/Bug+fix+implemented+in+EMOSLIB+4.3.x\n",
      "mars - WARN -\n",
      "PPDIR is /var/tmp/ppdir/x86_64\n",
      "mars - INFO   - 20180806.055710 - Welcome to MARS\n",
      "mars - INFO   - 20180806.055710 - MARS Client build stamp: 20180705145953\n",
      "mars - INFO   - 20180806.055710 - MARS Client version: 6.22.0\n",
      "mars - INFO   - 20180806.055710 - EMOSLIB version: 4.5.5\n",
      "mars - INFO   - 20180806.055710 - Using ecCodes version 2.8.0\n",
      "mars - INFO   - 20180806.055710 - Using odb_api version: 0.15.8 (file format version: 0.5)\n",
      "mars - INFO   - 20180806.055710 - Maximum retrieval size is 30.00 G\n",
      "retrieve,stream=oper,area=48/260/7/301,levtype=sfc,param=134.128/165.128/166.128/167.128/168.128/169.128/175.128/228.128,padding=0,step=3/6/9/12,grid=0.125/0.125,expver=0001,time=0000/1200,date=2018-02-01/to/2018-02-28,type=fc,class=eimars - WARN   - 20180806.055710 - For full resolution grid, it is recommended to use RESOL=AV to prevent any truncation before transformation\n",
      "mars - INFO   - 20180806.055710 - Automatic split by date is on\n",
      "\n",
      "mars - INFO   - 20180806.055710 - Processing request 1\n",
      "\n",
      "RETRIEVE,\n",
      "    CLASS      = EI,\n",
      "    TYPE       = FC,\n",
      "    STREAM     = OPER,\n",
      "    EXPVER     = 0001,\n",
      "    REPRES     = SH,\n",
      "    LEVTYPE    = SFC,\n",
      "    PARAM      = 134.128/165.128/166.128/167.128/168.128/169.128/175.128/228.128,\n",
      "    TIME       = 0000/1200,\n",
      "    STEP       = 3/6/9/12,\n",
      "    DOMAIN     = G,\n",
      "    RESOL      = AUTO,\n",
      "    AREA       = 48/260/7/301,\n",
      "    GRID       = 0.125/0.125,\n",
      "    PADDING    = 0,\n",
      "    DATE       = 20180201/20180202/20180203/20180204/20180205/20180206/20180207/20180208/20180209/20180210/20180211/20180212/20180213/20180214/20180215/20180216/20180217/20180218/20180219/20180220/20180221/20180222/20180223/20180224/20180225/20180226/20180227/20180228\n",
      "\n",
      "mars - INFO   - 20180806.055710 - Web API request id: 5b67e334f952b1e21dc5aa31\n",
      "mars - INFO   - 20180806.055710 - Requesting 1792 fields\n",
      "mars - INFO   - 20180806.055710 - Calling mars on 'marser', callback on 48096\n",
      "mars - INFO   - 20180806.055710 - Server task is 310 [marser]\n",
      "mars - INFO   - 20180806.055710 - Request cost: 1,792 fields, 304.705 Mbytes online, nodes: mvr09 mvr11 [marser]\n",
      "mars - INFO   - 20180806.055710 - Transfering 319506432 bytes\n",
      "mars - INFO   - 20180806.055805 - 1792 fields retrieved from 'marser'\n",
      "mars - INFO   - 20180806.055805 - 1792 fields have been interpolated\n",
      "mars - INFO   - 20180806.055805 - Request time:  wall: 55 sec  cpu: 54 sec\n",
      "mars - INFO   - 20180806.055805 -   Read from network: 304.71 Mbyte(s) in < 1 sec [423.17 Mbyte/sec]\n",
      "mars - INFO   - 20180806.055805 -   Visiting marser: wall: 55 sec\n",
      "mars - INFO   - 20180806.055805 -   Post-processing: wall: 52 sec cpu: 52 sec\n",
      "mars - INFO   - 20180806.055805 -   Writing to target file: 370.15 Mbyte(s) in < 1 sec [759.34 Mbyte/sec]\n",
      "mars - INFO   - 20180806.055805 - Memory used: 44.23 Mbyte(s)\n",
      "mars - INFO   - 20180806.055805 - No errors reported\n",
      "Process '['nice', 'mars', '/tmp/42/0b/tmp-_marsqvg5ca.req']' finished\n",
      "Calling 'nice grib_to_netcdf /data/data04/scratch/b0/7d/_mars-atls00-a82bacafb5c306db76464bc7e824bb75-6Axlnd.grib -o /data/data05/scratch/07/59/_grib2netcdf-atls19-70e05f9f8ba4e9d19932f1c45a7be8d8-AAFUkp.nc -utime'\n",
      "grib_to_netcdf: Version 2.8.0\n",
      "grib_to_netcdf: Processing input file '/data/data04/scratch/b0/7d/_mars-atls00-a82bacafb5c306db76464bc7e824bb75-6Axlnd.grib'.\n",
      "grib_to_netcdf: Found 1792 GRIB fields in 1 file.\n",
      "grib_to_netcdf: Ignoring key(s): method, type, stream, refdate, hdate\n",
      "grib_to_netcdf: Creating netCDF file '/data/data05/scratch/07/59/_grib2netcdf-atls19-70e05f9f8ba4e9d19932f1c45a7be8d8-AAFUkp.nc'\n",
      "grib_to_netcdf: NetCDF library version: 4.3.0 of Jul  3 2017 10:17:58 $\n",
      "grib_to_netcdf: Creating large (64 bit) file format.\n",
      "grib_to_netcdf: Defining variable 'sp'.\n",
      "grib_to_netcdf: Defining variable 'u10'.\n",
      "grib_to_netcdf: Defining variable 'v10'.\n",
      "grib_to_netcdf: Defining variable 't2m'.\n",
      "grib_to_netcdf: Defining variable 'd2m'.\n",
      "grib_to_netcdf: Defining variable 'ssrd'.\n",
      "grib_to_netcdf: Defining variable 'strd'.\n",
      "grib_to_netcdf: Defining variable 'tp'.\n",
      "grib_to_netcdf: Done.\n",
      "Process '['nice', 'grib_to_netcdf', '/data/data04/scratch/b0/7d/_mars-atls00-a82bacafb5c306db76464bc7e824bb75-6Axlnd.grib', '-o', '/data/data05/scratch/07/59/_grib2netcdf-atls19-70e05f9f8ba4e9d19932f1c45a7be8d8-AAFUkp.nc', '-utime']' finished\n",
      "2018-08-06 05:58:25 Request is complete\n",
      "2018-08-06 05:58:25 Transfering 369.974 Mbytes into /raid0/datasets/hindcast/ecmwf/era-interim/ECMWF_201802.nc\n",
      "2018-08-06 05:58:25 From https://stream.ecmwf.int/data/atls19/data/data05/scratch/07/59/_grib2netcdf-atls19-70e05f9f8ba4e9d19932f1c45a7be8d8-AAFUkp.nc\n",
      "2018-08-06 06:01:09 Transfer rate 2.25562 Mbytes/s\n"
     ]
    }
   ],
   "source": [
    "for yyyy in range (1980,1980+1):\n",
    "    for mm in range (1,12+1):\n",
    "        get_ecmwf(yyyy,mm,dest_dir)"
   ]
  },
  {
   "cell_type": "code",
   "execution_count": 35,
   "metadata": {},
   "outputs": [
    {
     "name": "stdout",
     "output_type": "stream",
     "text": [
      "012\n"
     ]
    }
   ],
   "source": [
    "n=12\n",
    "print(str(n).zfill(3))"
   ]
  },
  {
   "cell_type": "code",
   "execution_count": null,
   "metadata": {},
   "outputs": [],
   "source": []
  }
 ],
 "metadata": {
  "kernelspec": {
   "display_name": "Python 3",
   "language": "python",
   "name": "python3"
  },
  "language_info": {
   "codemirror_mode": {
    "name": "ipython",
    "version": 3
   },
   "file_extension": ".py",
   "mimetype": "text/x-python",
   "name": "python",
   "nbconvert_exporter": "python",
   "pygments_lexer": "ipython3",
   "version": "3.5.5"
  }
 },
 "nbformat": 4,
 "nbformat_minor": 2
}
